{
 "cells": [
  {
   "cell_type": "markdown",
   "id": "441efa37",
   "metadata": {},
   "source": [
    "# Q1: In the below elements which of them are values or an expression? \n"
   ]
  },
  {
   "cell_type": "markdown",
   "id": "ef6aeb93",
   "metadata": {},
   "source": [
    "# *\n",
    "# 'hello'\n",
    "# -87.8\n",
    "# -\n",
    "# /\n",
    "# +\n",
    "# 6"
   ]
  },
  {
   "cell_type": "raw",
   "id": "f4c728b7",
   "metadata": {},
   "source": [
    "Values are:- 'hello', -87.8 and 6\n",
    "Expressions are:- *, -, /, +"
   ]
  },
  {
   "cell_type": "markdown",
   "id": "ab7872e2",
   "metadata": {},
   "source": [
    "# Q2: What is the difference between string and variable?"
   ]
  },
  {
   "cell_type": "raw",
   "id": "f6ad5cb0",
   "metadata": {},
   "source": [
    "Strings are some values written in quotes while a variable is a argument passed to hold some value in it. Basically variable stores some values in it like a memory. And a string is stored in a variable as a datatype.\n",
    "\n",
    "For example, variable1 = 'string1'\n",
    "In this example we can see that variable 1 is holding a value named string1 in it. And string is something written in quotes."
   ]
  },
  {
   "cell_type": "markdown",
   "id": "ca3d0bf1",
   "metadata": {},
   "source": [
    "# Q3: Describe three different data types. "
   ]
  },
  {
   "cell_type": "raw",
   "id": "509392f2",
   "metadata": {},
   "source": [
    "In python there are so many datatypes which helps us to write sufficient codes. Some of them are as follows:\n",
    "    \n",
    "    1. Boolean: Boolean is a datatype in python which shows the truthness of a function or programm.\n",
    "    It will return either True or False.\n",
    "    \n",
    "    2. Lists: Lists are mutable collection of data. Lists are ordered in such a way we can easily access data from them.\n",
    "    Lists are stored in a []. For example, [1,2,3,'Sourabh',(1,2,3,3,4,4,5)]\n",
    "    \n",
    "    3. Floats: Floats are decimal numbers which helps in various mahematical or logical codes. It will reurn floating\n",
    "    numbers as 1.1, 1.222, etc."
   ]
  },
  {
   "cell_type": "markdown",
   "id": "9bc3a976",
   "metadata": {},
   "source": [
    "# Q4: What is an expression made up of? What do all expressions do?"
   ]
  },
  {
   "cell_type": "raw",
   "id": "25b825ab",
   "metadata": {},
   "source": [
    "An expression is a set of instructions/programms that we give to a computer in order to perform some tasks. Expressions are combination of logics, operators, operands and variables. There are many types of expressions and all expressions have different tasks to do. Some of them are constant expression which have fixed set of values that cannot be changed. Some are of them are floating expressions, which give float values after execution. Some expressions are relational and logical which gives boolean outputs."
   ]
  },
  {
   "cell_type": "markdown",
   "id": "db6fc6ee",
   "metadata": {},
   "source": [
    "# Q5: This assignment statements, like spam = 10. \n",
    "# What is the difference between an expression and a statement?"
   ]
  },
  {
   "cell_type": "raw",
   "id": "92fb3d90",
   "metadata": {},
   "source": [
    "Expression are some combination of values and instructions that a compiler needs to execute and show the result in end. Whereas as a statement is a code that is just assigned to a value that don't need to show anything until asked to do. Both are very useful in moduler coding."
   ]
  },
  {
   "cell_type": "markdown",
   "id": "93d31435",
   "metadata": {},
   "source": [
    "# Q6: After running the following code, what does the variable bacon contain?\n",
    "# bacon = 22\n",
    "# bacon + 1"
   ]
  },
  {
   "cell_type": "code",
   "execution_count": 1,
   "id": "b18bf1df",
   "metadata": {},
   "outputs": [],
   "source": [
    "bacon = 22"
   ]
  },
  {
   "cell_type": "code",
   "execution_count": 2,
   "id": "3c6a4a94",
   "metadata": {},
   "outputs": [
    {
     "data": {
      "text/plain": [
       "23"
      ]
     },
     "execution_count": 2,
     "metadata": {},
     "output_type": "execute_result"
    }
   ],
   "source": [
    "bacon + 1"
   ]
  },
  {
   "cell_type": "raw",
   "id": "28e125fd",
   "metadata": {},
   "source": [
    "On the above code we can see clearly that after running the following codes we are getting an updated value in the variable bacon."
   ]
  },
  {
   "cell_type": "markdown",
   "id": "f863a00e",
   "metadata": {},
   "source": [
    "# Q7: What should the values of the following two terms be?\n",
    "# 'spam' + 'spamspam'\n",
    "# 'spam'*3"
   ]
  },
  {
   "cell_type": "raw",
   "id": "e9073438",
   "metadata": {},
   "source": [
    "Values should be:-"
   ]
  },
  {
   "cell_type": "code",
   "execution_count": 18,
   "id": "2a76f8d2",
   "metadata": {},
   "outputs": [
    {
     "data": {
      "text/plain": [
       "'spamspamspam'"
      ]
     },
     "execution_count": 18,
     "metadata": {},
     "output_type": "execute_result"
    }
   ],
   "source": [
    "'spam' + 'spamspam'"
   ]
  },
  {
   "cell_type": "code",
   "execution_count": 19,
   "id": "5a6f8e0a",
   "metadata": {},
   "outputs": [
    {
     "data": {
      "text/plain": [
       "'spamspamspam'"
      ]
     },
     "execution_count": 19,
     "metadata": {},
     "output_type": "execute_result"
    }
   ],
   "source": [
    "'spam' * 3"
   ]
  },
  {
   "cell_type": "markdown",
   "id": "bcfc4ce9",
   "metadata": {},
   "source": [
    "# Q8: Why is eggs a valid variable name while 100 is invalid?"
   ]
  },
  {
   "cell_type": "raw",
   "id": "32b27990",
   "metadata": {},
   "source": [
    "In python there is a rule of assigning variables. This rule determines that we cannot assign any number, in built function and any variable starting with numbers.\n",
    "\n",
    "Insted python determine variables starting with _(underscore), ending with numbers like (Sourabh123), and only words like (eggs)."
   ]
  },
  {
   "cell_type": "markdown",
   "id": "c8df96b6",
   "metadata": {},
   "source": [
    "# Q9: What three functions can be used to get the integer, floating-point number, or string versions of a value?"
   ]
  },
  {
   "cell_type": "raw",
   "id": "162a1952",
   "metadata": {},
   "source": [
    "In python it is very easy to get any specific version of a value. For getting a integer value we use int() function, for floating-point number we use float() and for strings we use str() functions."
   ]
  },
  {
   "cell_type": "markdown",
   "id": "e71882c1",
   "metadata": {},
   "source": [
    "# Q10: Why does this expression cause an error? How can you fix it?\n",
    "# 'I have eaten' +99 + 'burritos.'"
   ]
  },
  {
   "cell_type": "raw",
   "id": "e7491d75",
   "metadata": {},
   "source": [
    "In this expression we are trying to concatenate a integer value to string, which can't be executed. Because in python programming a string data type cannot be concatenated with a integer datatype. Hence it will cause a type error.\n",
    "\n",
    "We can fix this error by converting integer value into a string datatype. By doing this we tell python that the value integer is a string and thus concatenate it with other strings."
   ]
  },
  {
   "cell_type": "code",
   "execution_count": 5,
   "id": "bb9cb5a2",
   "metadata": {},
   "outputs": [
    {
     "data": {
      "text/plain": [
       "'I have eaten 99 burritos'"
      ]
     },
     "execution_count": 5,
     "metadata": {},
     "output_type": "execute_result"
    }
   ],
   "source": [
    "'I have eaten ' + str(99) + ' burritos'\n"
   ]
  }
 ],
 "metadata": {
  "kernelspec": {
   "display_name": "Python 3",
   "language": "python",
   "name": "python3"
  },
  "language_info": {
   "codemirror_mode": {
    "name": "ipython",
    "version": 3
   },
   "file_extension": ".py",
   "mimetype": "text/x-python",
   "name": "python",
   "nbconvert_exporter": "python",
   "pygments_lexer": "ipython3",
   "version": "3.8.8"
  }
 },
 "nbformat": 4,
 "nbformat_minor": 5
}
